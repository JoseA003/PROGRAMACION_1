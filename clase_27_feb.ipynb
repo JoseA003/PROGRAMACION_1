{
  "nbformat": 4,
  "nbformat_minor": 0,
  "metadata": {
    "colab": {
      "provenance": [],
      "authorship_tag": "ABX9TyO2xTs9Gnfc1Oj+/61cW7+H",
      "include_colab_link": true
    },
    "kernelspec": {
      "name": "python3",
      "display_name": "Python 3"
    },
    "language_info": {
      "name": "python"
    }
  },
  "cells": [
    {
      "cell_type": "markdown",
      "metadata": {
        "id": "view-in-github",
        "colab_type": "text"
      },
      "source": [
        "<a href=\"https://colab.research.google.com/github/JoseA003/PROGRAMACION_1/blob/main/clase_27_feb.ipynb\" target=\"_parent\"><img src=\"https://colab.research.google.com/assets/colab-badge.svg\" alt=\"Open In Colab\"/></a>"
      ]
    },
    {
      "cell_type": "code",
      "execution_count": null,
      "metadata": {
        "id": "XUgkl-Eplawh"
      },
      "outputs": [],
      "source": [
        "#EJERCICIO 1\n",
        "#a = int(input(\"DIGITE SU EDAD: \"))\n",
        "\n",
        "#if(a>=18):\n",
        "#  print(\"Binevenido a XX**\")\n",
        "#else:\n",
        "#  print(\"Disculpe, usted no tiene la edad para entrar\")\n",
        "\n",
        "\n",
        "#EJERCICIO 2\n",
        "# a = str(input(\"crear una contraseña: \"))\n",
        "\n",
        "# b = str(input(\"Digite su contraseña\"))\n",
        "\n",
        "# if(a == b):\n",
        "#   print(\"contrañesa correcta, ingresando...\")\n",
        "# else:\n",
        "#   print(\"contraseña incorrecta\"\n",
        "\n",
        "\n",
        "# == TABLA DE MULTIPLUCAR==\n",
        "# a = int(input(\"DIGITE EL NUMERO A MULTIPLICAR: \"))\n",
        "# for i in range(11):\n",
        "#   b=a*i\n",
        "#   print(a,\"x\",i,\"=\",b)\n",
        "\n",
        "for a in range(1,11):\n",
        "  for i in range(1,11):\n",
        "    b=a*i\n",
        "    print(a,\"x\",i,\"=\",b)\n",
        "  print()"
      ]
    },
    {
      "cell_type": "code",
      "source": [
        "def f(x):\n",
        "  return (x-2)**2 - 2\n",
        "\n",
        "a = 0\n",
        "b = 2\n",
        "tol = 1e-5\n",
        "max_iter = 10000\n",
        "p = (a+b) / 2\n",
        "iter = 0\n",
        "\n",
        "while (iter < max_iter and abs(f(p) > tol)):\n",
        "  if(f(a)*f(b) < 0):\n",
        "    b = P\n",
        "  else:\n",
        "    a = p\n",
        "  p = (a+b) / 2\n",
        "  iter += 1\n",
        "\n",
        "print(iter,\"//\",p,\"//\",f(p))"
      ],
      "metadata": {
        "colab": {
          "base_uri": "https://localhost:8080/"
        },
        "id": "0qlop9iEfILF",
        "outputId": "b231c1e0-7435-4d24-b7d5-cce063d543b4"
      },
      "execution_count": 9,
      "outputs": [
        {
          "output_type": "stream",
          "name": "stdout",
          "text": [
            "0 // 1.0 // -1.0\n"
          ]
        }
      ]
    },
    {
      "cell_type": "code",
      "source": [
        "#-----------FIBONACCI---------#\n",
        "fo = 0\n",
        "f1 = 1\n",
        "n=20\n",
        "print(fo)\n",
        "print(f1)\n",
        "\n",
        "for i in range(n-2):\n",
        "  fn = fo + f1\n",
        "  print(fn)\n",
        "  fo=f1\n",
        "  f1=fn\n",
        "\n"
      ],
      "metadata": {
        "id": "zHrCv3WWoCwu",
        "colab": {
          "base_uri": "https://localhost:8080/"
        },
        "outputId": "fd8e4be8-2dce-419f-b916-1ea149ecde28"
      },
      "execution_count": 20,
      "outputs": [
        {
          "output_type": "stream",
          "name": "stdout",
          "text": [
            "0\n",
            "1\n",
            "1\n",
            "2\n",
            "3\n",
            "5\n",
            "8\n",
            "13\n",
            "21\n",
            "34\n",
            "55\n",
            "89\n",
            "144\n",
            "233\n",
            "377\n",
            "610\n",
            "987\n",
            "1597\n",
            "2584\n",
            "4181\n"
          ]
        }
      ]
    },
    {
      "cell_type": "code",
      "source": [],
      "metadata": {
        "id": "SaxFaJhltXVy",
        "colab": {
          "base_uri": "https://localhost:8080/"
        },
        "outputId": "b0386b92-2704-4097-e19d-1f202d774a64"
      },
      "execution_count": 8,
      "outputs": [
        {
          "output_type": "stream",
          "name": "stdout",
          "text": [
            "Digita un numero entero: 9\n",
            "2.8289682539682537\n"
          ]
        }
      ]
    }
  ]
}