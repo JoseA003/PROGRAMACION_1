{
  "nbformat": 4,
  "nbformat_minor": 0,
  "metadata": {
    "colab": {
      "provenance": [],
      "authorship_tag": "ABX9TyNrR4+x/rdLNe/nGfGiGBK7",
      "include_colab_link": true
    },
    "kernelspec": {
      "name": "python3",
      "display_name": "Python 3"
    },
    "language_info": {
      "name": "python"
    }
  },
  "cells": [
    {
      "cell_type": "markdown",
      "metadata": {
        "id": "view-in-github",
        "colab_type": "text"
      },
      "source": [
        "<a href=\"https://colab.research.google.com/github/JoseA003/PROGRAMACION_1/blob/main/Matriz_inversa_LU.ipynb\" target=\"_parent\"><img src=\"https://colab.research.google.com/assets/colab-badge.svg\" alt=\"Open In Colab\"/></a>"
      ]
    },
    {
      "cell_type": "code",
      "source": [
        "import numpy as np\n",
        "\n",
        "def LU_decomposition(A):  # Usando el mismo codigo para LU de la tarea anterior\n",
        "    n = len(A)\n",
        "    L = np.eye(n)  # codigo np.eye es para que L tinga 1's en la diagonal principal\n",
        "    U = np.zeros((n, n))  #Una matriz de tamaño n*n de ceros para iniciar\n",
        "\n",
        "    for i in range(n):\n",
        "      for j in range(i, n):\n",
        "            s1 = 0\n",
        "            for k in range(i):\n",
        "                s1 += L[i, k] * U[k, j]  # la sumatoria para poder hallar U\n",
        "\n",
        "            U[i, j] = A[i, j] - s1  # este es U\n",
        "\n",
        "            for j in range(i+1, n):\n",
        "                s2 = 0\n",
        "                for k in range(i):\n",
        "                    s2 += L[j, k] * U[k, i]\n",
        "                L[j, i] = (A[j, i] - s2) / U[i, i]  # este es L\n",
        "    return L, U\n",
        "\n",
        "# Ejemplo\n",
        "A = np.array([\n",
        " [ 2, 1, 3],\n",
        " [ 2,-1, 2],\n",
        " [ 1, 2, 2]\n",
        "])\n",
        "\n",
        "L, U = LU_decomposition(A)\n",
        "print(\"La Matriz L es: \")\n",
        "print(L)\n",
        "print()\n",
        "print(\"La Matriz U es: \")\n",
        "print(U)\n",
        "\n",
        "def inversa(A):  # Aqui creo otro def para la inversa\n",
        "    L, U = LU_decomposition(A)  # usamos los mismos L y U del anterior def\n",
        "    n = len(A)\n",
        "    I = np.eye(n)\n",
        "    inv_A = np.zeros((n, n))\n",
        "\n",
        "    for i in range(n):\n",
        "        # Resuelve Ly = I para y\n",
        "        y = np.linalg.solve(L, I[i, :]) #I[:, i] es para solo tomar las filas de I como vectores\n",
        "\n",
        "        # Resuelve Ux = y para x\n",
        "        x = np.linalg.solve(U, y)\n",
        "\n",
        "        inv_A[:, i] = x  #para que inv_A se construya a partir de los vectores\n",
        "\n",
        "    return inv_A\n",
        "\n",
        "inv_A = inversa(A)\n",
        "print()\n",
        "print(\"Matriz inversa:\")\n",
        "print(inv_A)"
      ],
      "metadata": {
        "colab": {
          "base_uri": "https://localhost:8080/"
        },
        "id": "WxwyJyIdDzhH",
        "outputId": "e50d982c-fdcf-4ea0-92bb-d00dba642653"
      },
      "execution_count": null,
      "outputs": [
        {
          "output_type": "stream",
          "name": "stdout",
          "text": [
            "La Matriz L es: \n",
            "[[ 1.    0.    0.  ]\n",
            " [ 1.    1.    0.  ]\n",
            " [ 0.5  -0.75  1.  ]]\n",
            "\n",
            "La Matriz U es: \n",
            "[[ 2.    1.    3.  ]\n",
            " [ 0.   -2.   -1.  ]\n",
            " [ 0.    0.   -0.25]]\n",
            "\n",
            "Matriz inversa:\n",
            "[[-6.  4.  5.]\n",
            " [-2.  1.  2.]\n",
            " [ 5. -3. -4.]]\n"
          ]
        }
      ]
    },
    {
      "cell_type": "code",
      "source": [
        "#experimentando con A[:,i] para la traspuesta\n",
        "A = np.array([\n",
        "    [-6, 4],\n",
        "    [-2, 1],\n",
        "    [5, -3],\n",
        "])\n",
        "n = len(A[0])\n",
        "for i in range(n):\n",
        "    b = A[:,i]\n",
        "    print(b)"
      ],
      "metadata": {
        "colab": {
          "base_uri": "https://localhost:8080/"
        },
        "id": "kmd2Vd7TWpZW",
        "outputId": "ae63faec-23e7-4ce5-b260-637817229422"
      },
      "execution_count": null,
      "outputs": [
        {
          "output_type": "stream",
          "name": "stdout",
          "text": [
            "[-6 -2  5]\n",
            "[ 4  1 -3]\n"
          ]
        }
      ]
    }
  ]
}