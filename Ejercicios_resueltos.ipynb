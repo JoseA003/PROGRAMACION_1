{
  "nbformat": 4,
  "nbformat_minor": 0,
  "metadata": {
    "colab": {
      "provenance": [],
      "authorship_tag": "ABX9TyPCw+50zD4f8fuy2VQsDOvO",
      "include_colab_link": true
    },
    "kernelspec": {
      "name": "python3",
      "display_name": "Python 3"
    },
    "language_info": {
      "name": "python"
    }
  },
  "cells": [
    {
      "cell_type": "markdown",
      "metadata": {
        "id": "view-in-github",
        "colab_type": "text"
      },
      "source": [
        "<a href=\"https://colab.research.google.com/github/JoseA003/PROGRAMACION_1/blob/main/Ejercicios_resueltos.ipynb\" target=\"_parent\"><img src=\"https://colab.research.google.com/assets/colab-badge.svg\" alt=\"Open In Colab\"/></a>"
      ]
    },
    {
      "cell_type": "code",
      "execution_count": null,
      "metadata": {
        "id": "6W6c1s_3_udN"
      },
      "outputs": [],
      "source": [
        "a = int(input(\"digite un numero \"))\n",
        "b = int(input(\"digite otro numero \"))\n",
        "\n",
        "if a < b:\n",
        "  print(\"el numero\",b,\"es mayor\")\n",
        "elif a > b:\n",
        "  print(\"el numero\",a,\"es mayor\")\n",
        "else:\n",
        "  print(\"son iguales\")\n"
      ]
    },
    {
      "cell_type": "code",
      "source": [
        "nombre = input(\"¿Cómo te llamas? \")\n",
        "n = input(\"Introduce un número entero: \")\n",
        "print((nombre + \"\\n\") * int(n))"
      ],
      "metadata": {
        "id": "Nu38C7t9g0V8"
      },
      "execution_count": null,
      "outputs": []
    },
    {
      "cell_type": "code",
      "source": [
        "#Escribir un programa que pida al usuario dos números y muestre por pantalla su división.\n",
        "#Si el divisor es cero el programa debe mostrar un error.\n",
        "a = float(input(\"Digite un numero: \"))\n",
        "b = float(input(\"Digite otro numero numero: \"))\n",
        "\n",
        "if b == 0:\n",
        "  print(\"**//ERROR//**\")\n",
        "else:\n",
        "  c = a/b\n",
        "  print(c)"
      ],
      "metadata": {
        "id": "1X3Y78a-f-YD"
      },
      "execution_count": null,
      "outputs": []
    },
    {
      "cell_type": "code",
      "source": [
        "a = int(input(\"Dame un numero: \"))\n",
        "b = a % 2\n",
        "if b == 0:\n",
        "  print(\"El numero \", a ,\" es par\")\n",
        "else:\n",
        "  print(\"El numero \",a,\"es impar\")\n"
      ],
      "metadata": {
        "id": "NnE6CRa_iQxl"
      },
      "execution_count": null,
      "outputs": []
    },
    {
      "cell_type": "code",
      "source": [
        "#Para tributar un determinado impuesto se debe ser mayor de 16 años y tener unos ingresos iguales o superiores a 1000 € mensuales.\n",
        "#Escribir un programa que pregunte al usuario su edad y sus ingresos mensuales y muestre por pantalla si el usuario tiene que tributar o no.\n",
        "a = int(input(\"ingrese su edad: \"))\n",
        "b = int(input(\"Ingresos mensuales en euros: \"))\n",
        "if a>16 and b>=1000:\n",
        "  print(\"Puede tributar\")\n",
        "  if a<=16:\n",
        "      print(\"No puede tributar por su edad\")\n",
        "  if b<1000:\n",
        "      print(\"No tiene los ingresos necesarios para tributar\")\n",
        "else:\n",
        "  print(\"No puedes tributar\")"
      ],
      "metadata": {
        "id": "lHqS4RhelSSw"
      },
      "execution_count": null,
      "outputs": []
    },
    {
      "cell_type": "code",
      "source": [
        "#Los alumnos de un curso se han dividido en dos grupos A y B de acuerdo al sexo y el nombre.\n",
        "#El grupo A esta formado por las mujeres con un nombre anterior a la M y los hombres con un nombre posterior a la N y el grupo B por el resto.\n",
        "#Escribir un programa que pregunte al usuario su nombre y sexo, y muestre por pantalla el grupo que le corresponde.\n",
        "name = input(\"¿Cómo te llamas? \")\n",
        "sexo = input(\"¿Cuál es tu sexo (M o H)? \")\n",
        "if sexo == \"M\":\n",
        "    if name.lower() < \"m\":\n",
        "        group = \"A\"\n",
        "    else:\n",
        "        group = \"B\"\n",
        "else:\n",
        "    if name.lower() > \"n\":\n",
        "        group = \"A\"\n",
        "    else:\n",
        "        group = \"B\"\n",
        "print(\"Tu grupo es \" + group)"
      ],
      "metadata": {
        "id": "2fYLDM7gpD5c"
      },
      "execution_count": null,
      "outputs": []
    },
    {
      "cell_type": "code",
      "source": [
        "#Escribir un programa que pregunte el nombre del usuario en la consola y un número entero e\n",
        "#imprima por pantalla en líneas distintas el nombre del usuario tantas veces como el número introducido.\n",
        "name = input(\"Escriba su nombre: \")\n",
        "a = int(input(\"ingrese un numero entero\"))\n",
        "\n",
        "print((name + \"\\n\")*a)"
      ],
      "metadata": {
        "id": "QByoWyrhu6J0"
      },
      "execution_count": null,
      "outputs": []
    },
    {
      "cell_type": "code",
      "source": [
        "name = input(\"¿Cómo te llamas? \")\n",
        "print(name.lower())\n",
        "print(name.upper())\n",
        "print(name.title())"
      ],
      "metadata": {
        "id": "IcfMs4ctyrTK"
      },
      "execution_count": null,
      "outputs": []
    },
    {
      "cell_type": "code",
      "source": [
        "name = str(input(\"Como te llamas? \"))\n",
        "print(name.upper(),\"tiene\",len(name),\" letras\")\n"
      ],
      "metadata": {
        "colab": {
          "base_uri": "https://localhost:8080/"
        },
        "id": "l9W3UeS10l39",
        "outputId": "a16cb067-c957-4bd9-d974-3ab5cb1c74de"
      },
      "execution_count": null,
      "outputs": [
        {
          "output_type": "stream",
          "name": "stdout",
          "text": [
            "Como te llamas? Luz marina morales carillo\n",
            "LUZ MARINA MORALES CARILLO tiene 26  letras\n"
          ]
        }
      ]
    }
  ]
}