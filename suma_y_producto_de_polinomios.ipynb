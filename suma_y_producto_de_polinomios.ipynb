{
  "nbformat": 4,
  "nbformat_minor": 0,
  "metadata": {
    "colab": {
      "provenance": [],
      "authorship_tag": "ABX9TyNWvbDi+4KKv559HMpvMQ0g",
      "include_colab_link": true
    },
    "kernelspec": {
      "name": "python3",
      "display_name": "Python 3"
    },
    "language_info": {
      "name": "python"
    }
  },
  "cells": [
    {
      "cell_type": "markdown",
      "metadata": {
        "id": "view-in-github",
        "colab_type": "text"
      },
      "source": [
        "<a href=\"https://colab.research.google.com/github/JoseA003/PROGRAMACION_1/blob/main/suma_y_producto_de_polinomios.ipynb\" target=\"_parent\"><img src=\"https://colab.research.google.com/assets/colab-badge.svg\" alt=\"Open In Colab\"/></a>"
      ]
    },
    {
      "cell_type": "code",
      "source": [
        "def sum_pol(p, q):\n",
        "    n = len(p)\n",
        "    m = len(q)\n",
        "    max_len = max(n, m)   #maximo de ambos tamaños\n",
        "    # Inicializamos la lista de suma con ceros\n",
        "    sum = [0] * max_len  #lo multiplicamos por el mayor para que se guarde con ese tamaño\n",
        "\n",
        "    # Sumamos los elementos de cada vector\n",
        "    for i in range(max_len):\n",
        "        if n == m:\n",
        "            sum[i] = p[i] + q[i]\n",
        "        elif i < n:\n",
        "            sum[i] = p[i]\n",
        "        else:\n",
        "            sum[i] = q[i]\n",
        "\n",
        "    return sum\n",
        "\n",
        "p = list(map(float, input(\"Digite los coeficientes del primer polinomio con espacios: \").split()))\n",
        "q = list(map(float, input(\"Digite los coeficientes del segundo polinomio con espacios: \").split()))\n",
        "\n",
        "suma = sum_pol(p, q)\n",
        "print()\n",
        "print(\"La suma de los polinomios es: \")\n",
        "print(p, \" + \", q , \" = \",end=\" \")\n",
        "print(suma)"
      ],
      "metadata": {
        "colab": {
          "base_uri": "https://localhost:8080/"
        },
        "id": "ozLRN4UjAOW1",
        "outputId": "ec649f94-6d47-46d9-81e3-f026f9f8b30a"
      },
      "execution_count": null,
      "outputs": [
        {
          "output_type": "stream",
          "name": "stdout",
          "text": [
            "Digite los coeficientes del primer polinomio con espacios: 4 5 1\n",
            "Digite los coeficientes del segundo polinomio con espacios: 1 1 1\n",
            "\n",
            "La suma de los polinomios es: \n",
            "[4.0, 5.0, 1.0]  +  [1.0, 1.0, 1.0]  =  [5.0, 6.0, 2.0]\n"
          ]
        }
      ]
    },
    {
      "cell_type": "code",
      "source": [
        "def prod_pol(p, q):\n",
        "    n = len(p)\n",
        "    m = len(q)\n",
        "    max_len = max(n, m)\n",
        "    # Inicializamos la lista de suma con ceros\n",
        "    prod = [0] * (n + m - 1)\n",
        "\n",
        "    # multiplicamos y sumamos los elementos de cada vector\n",
        "    for i in range(n):\n",
        "      for j in range(m):\n",
        "        prod[i + j] += p[i] * q[j]\n",
        "\n",
        "    return prod\n",
        "\n",
        "p = list(map(float, input(\"Digite los coeficientes del primer polinomio con espacios: \").split()))\n",
        "q = list(map(float, input(\"Digite los coeficientes del segundo polinomio con espacios: \").split()))\n",
        "\n",
        "producto = prod_pol(p, q)\n",
        "print()\n",
        "print(\"El producto de los polinomios es: \")\n",
        "print(p, \" * \", q , \" = \",end=\" \")\n",
        "print(producto)"
      ],
      "metadata": {
        "colab": {
          "base_uri": "https://localhost:8080/"
        },
        "id": "NPU8u1v8DbdC",
        "outputId": "2e69a1f6-5266-444a-a990-d2240212d650"
      },
      "execution_count": null,
      "outputs": [
        {
          "output_type": "stream",
          "name": "stdout",
          "text": [
            "Digite los coeficientes del primer polinomio con espacios: 1 2 1\n",
            "Digite los coeficientes del segundo polinomio con espacios: 1 3\n",
            "\n",
            "El producto de los polinomios es: \n",
            "[1.0, 2.0, 1.0]  *  [1.0, 3.0]  =  [1.0, 5.0, 7.0, 3.0]\n"
          ]
        }
      ]
    },
    {
      "cell_type": "code",
      "source": [],
      "metadata": {
        "id": "cK0qEV6OLdt9"
      },
      "execution_count": null,
      "outputs": []
    }
  ]
}