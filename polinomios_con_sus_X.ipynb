{
  "nbformat": 4,
  "nbformat_minor": 0,
  "metadata": {
    "colab": {
      "provenance": [],
      "authorship_tag": "ABX9TyOHrwXXxg1TriRXLtxkXVMC",
      "include_colab_link": true
    },
    "kernelspec": {
      "name": "python3",
      "display_name": "Python 3"
    },
    "language_info": {
      "name": "python"
    }
  },
  "cells": [
    {
      "cell_type": "markdown",
      "metadata": {
        "id": "view-in-github",
        "colab_type": "text"
      },
      "source": [
        "<a href=\"https://colab.research.google.com/github/JoseA003/PROGRAMACION_1/blob/main/polinomios_con_sus_X.ipynb\" target=\"_parent\"><img src=\"https://colab.research.google.com/assets/colab-badge.svg\" alt=\"Open In Colab\"/></a>"
      ]
    },
    {
      "cell_type": "code",
      "source": [
        "def sum_pol(p, q):\n",
        "    n = len(p)\n",
        "    m = len(q)\n",
        "    max_len = max(n, m)   #maximo de ambos tamaños\n",
        "    # Inicializamos la lista de suma con ceros\n",
        "    sum = [0] * max_len  #lo multiplicamos por el mayor para que se guarde con ese tamaño\n",
        "\n",
        "    # Sumamos los elementos de cada vector\n",
        "    for i in range(max_len):\n",
        "        if i < n and i < m:\n",
        "            sum[i] = p[i] + q[i] #aqui cambia la posicion i del vector sum por la suma de la misma posicion en los dos vectores\n",
        "        elif i < n:\n",
        "            sum[i] = p[i]   #Indica que si el vector sum es del tamaño del vector p entonces use los numeros no sumados de P en su respectiva posicion\n",
        "        else:\n",
        "            sum[i] = q[i]   #Lo mismo pero para q jejeje\n",
        "\n",
        "    return sum\n",
        "\n",
        "p = list(map(float, input(\"Digite los coeficientes del primer polinomio con espacios: \").split()) )#Con este codigo (lo encontre en internet), te pide los numeros con espacio para colocarlo en un vector\n",
        "q = list(map(float, input(\"Digite los coeficientes del segundo polinomio con espacios: \").split())) # esto con el fin de no ocupar espacio con el ciclo for y sea mas rapido\n",
        "\n",
        "suma = sum_pol(p, q)\n",
        "print()\n",
        "print(\"La suma de los polinomios es: \")\n",
        "print(p, \" + \", q , \" = \",end=\" \") #El comando (end=\" \") lo use para mera estetica, para que no saltara la linea en siguiente print\n",
        "print(suma)"
      ],
      "metadata": {
        "colab": {
          "base_uri": "https://localhost:8080/"
        },
        "id": "ozLRN4UjAOW1",
        "outputId": "3709668e-1606-4e63-b6c4-c78103034f06"
      },
      "execution_count": 5,
      "outputs": [
        {
          "output_type": "stream",
          "name": "stdout",
          "text": [
            "Digite los coeficientes del primer polinomio con espacios: 10\n",
            "Digite los coeficientes del segundo polinomio con espacios: 1 2 3\n",
            "\n",
            "La suma de los polinomios es: \n",
            "[10.0]  +  [1.0, 2.0, 3.0]  =  [11.0, 2.0, 3.0]\n"
          ]
        }
      ]
    },
    {
      "cell_type": "code",
      "source": [
        "def prod_pol(p, q):\n",
        "    n = len(p)\n",
        "    m = len(q)\n",
        "    # Inicializamos la lista de suma con ceros\n",
        "    prod = [0] * (n + m - 1)  # aqui colocamos el tamaño que tendra la matriz resultante\n",
        "\n",
        "    # multiplicamos y sumamos los elementos de cada vector\n",
        "    for i in range(n):\n",
        "      for j in range(m):\n",
        "        prod[i + j] += p[i] * q[j]    #aqui cambiar la posicion i+j del vector resultante, por la suma de las multiplicaciones de las posiciones i, j es sus respectivos vectores\n",
        "\n",
        "    return prod\n",
        "\n",
        "p = list(map(float, input(\"Digite los coeficientes del primer polinomio con espacios: \").split())) #Con este codigo (lo encontre en internet), te pide los numeros con espacio para colocarlo en un vector\n",
        "q = list(map(float, input(\"Digite los coeficientes del segundo polinomio con espacios: \").split()))\n",
        "\n",
        "producto = prod_pol(p, q)\n",
        "print()\n",
        "print(\"El producto de los polinomios es: \")\n",
        "print(p, \" * \", q , \" = \",end=\" \")  #El comando (end=\" \") lo use para mera estetica, para que no saltara la linea en siguiente print\n",
        "print(producto)"
      ],
      "metadata": {
        "colab": {
          "base_uri": "https://localhost:8080/"
        },
        "id": "NPU8u1v8DbdC",
        "outputId": "c454c4fd-7470-46c8-9273-cbdeeebee1dd"
      },
      "execution_count": 7,
      "outputs": [
        {
          "output_type": "stream",
          "name": "stdout",
          "text": [
            "Digite los coeficientes del primer polinomio con espacios: 1 2\n",
            "Digite los coeficientes del segundo polinomio con espacios: 1 2 3\n",
            "\n",
            "El producto de los polinomios es: \n",
            "[1.0, 2.0]  *  [1.0, 2.0, 3.0]  =  [1.0, 4.0, 7.0, 6.0]\n"
          ]
        }
      ]
    },
    {
      "cell_type": "code",
      "source": [
        "def sum_pol(p, q):\n",
        "    n = len(p)\n",
        "    m = len(q)\n",
        "    max_len = max(n, m)   #maximo de ambos tamaños\n",
        "    # Inicializamos la lista de suma con ceros\n",
        "    sum = [0] * max_len  #lo multiplicamos por el mayor para que se guarde con ese tamaño\n",
        "\n",
        "    # Sumamos los elementos de cada vector\n",
        "    for i in range(max_len):\n",
        "        if i < n and i < m:\n",
        "            sum[i] = p[i] + q[i] #aqui cambia la posicion i del vector sum por la suma de la misma posicion en los dos vectores\n",
        "        elif i < n:\n",
        "            sum[i] = p[i]   #Indica que si el vector sum es del tamaño del vector p entonces use los numeros no sumados de P en su respectiva posicion\n",
        "        else:\n",
        "            sum[i] = q[i]   #Lo mismo pero para q jejeje\n",
        "\n",
        "    return sum\n",
        "\n",
        "p = list(map(float, input(\"Digite los coeficientes del primer polinomio con espacios: \").split()) )#Con este codigo (lo encontre en internet), te pide los numeros con espacio para colocarlo en un vector\n",
        "q = list(map(float, input(\"Digite los coeficientes del segundo polinomio con espacios: \").split())) # esto con el fin de no ocupar espacio con el ciclo for y sea mas rapido\n",
        "\n",
        "suma = sum_pol(p, q)\n",
        "\n",
        "def print_polynomial(polynomial):\n",
        "    n = len(polynomial)\n",
        "    for i in range(n):\n",
        "        if polynomial[i] != 0:\n",
        "            if i == 0:\n",
        "                print(\"{:.2f}\".format(polynomial[i]), end=\"\")\n",
        "            else:\n",
        "                print(\" + ({:.2f})x^{}\".format(polynomial[i], i), end=\"\")\n",
        "    if polynomial == [0]:\n",
        "        print(\"0\", end=\"\")\n",
        "\n",
        "suma = sum_pol(p, q)\n",
        "print()\n",
        "print(\"La suma de los polinomios es: \")\n",
        "print(p, \" + \", q , \" = \",end=\" \") #El comando (end=\" \") lo use para mera estetica, para que no saltara la linea en siguiente print\n",
        "\n",
        "print_polynomial(suma)\n",
        "\n"
      ],
      "metadata": {
        "colab": {
          "base_uri": "https://localhost:8080/"
        },
        "id": "hhc91eFJv76G",
        "outputId": "c508b9ae-12e9-45c2-ed72-f31a9316d5ec"
      },
      "execution_count": 11,
      "outputs": [
        {
          "output_type": "stream",
          "name": "stdout",
          "text": [
            "Digite los coeficientes del primer polinomio con espacios: 1 2\n",
            "Digite los coeficientes del segundo polinomio con espacios: 1\n",
            "\n",
            "La suma de los polinomios es: \n",
            "[1.0, 2.0]  +  [1.0]  =  2.00 + (2.00)x^1"
          ]
        }
      ]
    }
  ]
}